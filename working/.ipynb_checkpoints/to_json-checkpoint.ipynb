{
 "cells": [
  {
   "cell_type": "code",
   "execution_count": 1,
   "metadata": {
    "collapsed": false
   },
   "outputs": [],
   "source": [
    "import pandas as pd\n",
    "import numpy as np\n",
    "import datetime\n",
    "import time\n",
    "\n",
    "todays_date = str(datetime.date.today())\n",
    "\n",
    "import warnings\n",
    "warnings.filterwarnings(\"ignore\")"
   ]
  },
  {
   "cell_type": "code",
   "execution_count": 2,
   "metadata": {
    "collapsed": true
   },
   "outputs": [],
   "source": [
    "def changeup(dci, level):\n",
    "    dci[level][dci[level]==212717] = \"010106Apples Dessert Per Kg\"\n",
    "    dci[level][dci[level]==212719] = \"010106Bananas Per Kg\"\n",
    "    dci[level][dci[level]==210213] =\"010101Breakfast Cereal 1\"\n",
    "    dci[level][dci[level]==210214] =\"010101Breakfast Cereal 2\"\n",
    "    dci[level][dci[level]==211501] =\"010104Cheddar Home Produced Per Kg\"\n",
    "    dci[level][dci[level]==212011] =\"010202Cola Flavoured Drink 2 Ltr Btl\"\n",
    "    dci[level][dci[level]==210204] =\"010101Dry Spaghetti Or Pasta 500G\"\n",
    "    dci[level][dci[level]==212519] =\"010107Fresh Veg Onions Per Kg\"\n",
    "    dci[level][dci[level]==212515] =\"010107Fresh Veg Tomatoes Per Kg\"\n",
    "    dci[level][dci[level]==212016] =\"010202Fresh_Chilled Orange Juice 1L\"\n",
    "    dci[level][dci[level]==212006] =\"010202Fruit Juice Not Orange 1L\"\n",
    "    dci[level][dci[level]==212722] =\"010106Grapes Per Kg\"\n",
    "    dci[level][dci[level]==210302] =\"010101Plain Biscuits 200-300G\"\n",
    "    dci[level][dci[level]==212319] =\"010107Potatoes New Per Kg\"\n",
    "    dci[level][dci[level]==212360] =\"010107Potatoes Old White Per Kg\"\n",
    "    dci[level][dci[level]==211709] =\"010104Shop Milk Whole Milk 4Pt_2Ltr\"\n",
    "    dci[level][dci[level]==211710] =\"010104Shop Milk Semi Skimmed\"\n",
    "    dci[level][dci[level]==211305] =\"010105Spreadable Butter 40-70% Butter\"\n",
    "    dci[level][dci[level]==212720] =\"010106Strawberries Per Kg Or Punnet\"\n",
    "    dci[level][dci[level]==211901] =\"010201Tea Bags 1 Packet Of 80 (250G)\"\n",
    "    dci[level][dci[level]==210111] =\"010101White Sliced Loaf Branded 800G\"\n",
    "    dci[level][dci[level]==210113] =\"010101Wholemeal Sliced Loaf Branded\"\n",
    "    dci[level][dci[level]==211814] =\"010104Yoghurt Small Individual\"\n",
    "    dci[level][dci[level]==211807] =\"010104Yoghurt_Fromage 4-6Pk\"\n",
    "    dci[level][dci[level]==310218] =\"020102Apple Cider 500-750Ml 4.5-5.5%\"\n",
    "    dci[level][dci[level]==310207] =\"020103Bitter 4 Cans 440-500Ml\"\n",
    "    dci[level][dci[level]==310405] =\"020101Brandy 68-70 Cl Bottle\"\n",
    "    dci[level][dci[level]==310215] =\"020103Lager 4 Bottles Premium\"\n",
    "    dci[level][dci[level]==310421] =\"020102Red Wine European 75Cl\"\n",
    "    dci[level][dci[level]==310427] =\"020101Rum White Bottle\"\n",
    "    dci[level][dci[level]==310403] =\"020101Vodka 70 Cl Bottle\"\n",
    "    dci[level][dci[level]==310401] =\"2020101Whisky 70 Cl Bottle\"\n",
    "    dci[level][dci[level]==310419] =\"020102White Wine European 75Cl\"\n",
    "    dci=dci.rename(columns = {level:'category'})\n",
    "    return dci"
   ]
  },
  {
   "cell_type": "code",
   "execution_count": 3,
   "metadata": {
    "collapsed": true
   },
   "outputs": [],
   "source": [
    "#price monthly agg\n",
    "\n",
    "def monthlyagg(infile, outfile, index,ind, level, period,value, alc):\n",
    "    infile = pd.read_csv(infile)\n",
    "    infile = infile[[ind,level, period,value]]\n",
    "    infile.columns=[\"index\",\"category\",\"date\",\"value\"]\n",
    "    infile[\"index\"] = index\n",
    "    infile = infile[[\"category\",\"index\",\"value\",\"date\"]]\n",
    "    infile[\"date\"] = infile[\"date\"].apply(lambda x: \"01/\"+str(x)[4:6]+\"/\"+str(x)[2:4])\n",
    "    infile[\"category\"] = infile[\"category\"].apply(lambda x: \"020000Alcoholic Beverages\" if x == alc else \"010000Food & Non-Alcoholic Beverages\")\n",
    "    infile.to_csv(outfile)"
   ]
  },
  {
   "cell_type": "code",
   "execution_count": 4,
   "metadata": {
    "collapsed": false
   },
   "outputs": [],
   "source": [
    "#price monthly itemlevel\n",
    "\n",
    "def monthlyitem(infile,outfilef, outfilea, priceindex, index, period, level, alc):\n",
    "    infile = pd.read_csv(infile)\n",
    "    join = pd.read_csv(\"/media/mint/e834712c-23da-4cbe-a4ec-3a35d416877b/Run_system/Weights/join.csv\")\n",
    "    infile = pd.merge(infile,join,left_on=level, right_on=\"join\", how=\"left\")\n",
    "    infile = changeup(infile, level)\n",
    "    infile[\"index\"] = index\n",
    "    infile=infile[[\"category\",\"index\",priceindex,period,\"level_3\"]]\n",
    "    infile.columns=[\"category\",\"index\",\"value\",\"date\",\"level_3\"]\n",
    "    infile[\"date\"] = infile[\"date\"].apply(lambda x: \"01/\"+str(x)[4:6]+\"/\"+str(x)[2:4])\n",
    "    infilef = infile[infile[\"level_3\"]!= alc]\n",
    "    infilea = infile[infile[\"level_3\"]==alc]\n",
    "    infilef.to_csv(outfilef)\n",
    "    infilea.to_csv(outfilea)"
   ]
  },
  {
   "cell_type": "code",
   "execution_count": 5,
   "metadata": {
    "collapsed": true
   },
   "outputs": [],
   "source": [
    "#price weekly agg\n",
    "\n",
    "def weekagg(infile, outfile, index, ind, level, period,value, alc):\n",
    "    infile = pd.read_csv(infile)\n",
    "    infile = infile[[ind,level, period,value]]\n",
    "    infile.columns=[\"index\",\"category\",\"date\",\"value\"]\n",
    "    infile[\"index\"] = index\n",
    "    infile=infile[[\"category\",\"index\",\"value\",\"date\"]]\n",
    "    infile[\"date\"] = infile[\"date\"].apply(lambda x: \"20\"+str(x)[2:4]+\"-\"+\"W\"+str(x)[4:6])\n",
    "    infile[\"date\"]=infile[\"date\"].apply(lambda x: datetime.datetime.strptime(x + '-1', \"%Y-W%W-%w\"))\n",
    "    infile[\"date\"] = infile[\"date\"].apply(lambda x: str(x)[8:10]+\"/\"+str(x)[5:7]+\"/\"+str(x)[2:4])\n",
    "    infile[\"category\"] = infile[\"category\"].apply(lambda x: \"020000Alcoholic Beverages\" if x == alc else \"010000Food & Non-Alcoholic Beverages\")\n",
    "    infile.to_csv(outfile)"
   ]
  },
  {
   "cell_type": "code",
   "execution_count": 6,
   "metadata": {
    "collapsed": false
   },
   "outputs": [],
   "source": [
    "#price weekly itemlevel\n",
    "\n",
    "def weekitem(infile, outfilef, outfilea, priceindex, index, period, level, alc):\n",
    "    infile = pd.read_csv(infile)\n",
    "    join = pd.read_csv(\"/media/mint/e834712c-23da-4cbe-a4ec-3a35d416877b/Run_system/Weights/join.csv\")\n",
    "    infile = pd.merge(infile,join,left_on=level, right_on=\"join\", how=\"left\")\n",
    "    infile = changeup(infile, level)\n",
    "    infile[\"index\"] = index\n",
    "    infile=infile[[\"category\",\"index\",priceindex,period,\"level_3\"]]\n",
    "    infile.columns=[\"category\",\"index\",\"value\",\"date\",\"level_3\"]\n",
    "    infile[\"date\"] = infile[\"date\"].apply(lambda x: \"20\"+str(x)[2:4]+\"-\"+\"W\"+str(x)[4:6])\n",
    "    infile[\"date\"]=infile[\"date\"].apply(lambda x: datetime.datetime.strptime(x + '-1', \"%Y-W%W-%w\"))\n",
    "    infile[\"date\"] = infile[\"date\"].apply(lambda x: str(x)[8:10]+\"/\"+str(x)[5:7]+\"/\"+str(x)[2:4])\n",
    "    infilef = infile[infile[\"level_3\"]!=alc]\n",
    "    infilea = infile[infile[\"level_3\"]==alc]\n",
    "    infilef.to_csv(outfilef)\n",
    "    infilea.to_csv(outfilea)"
   ]
  },
  {
   "cell_type": "code",
   "execution_count": 7,
   "metadata": {
    "collapsed": false
   },
   "outputs": [],
   "source": [
    "#Geks monthly agg\n",
    "\n",
    "gma = monthlyagg(\"/media/mint/e834712c-23da-4cbe-a4ec-3a35d416877b/Run_system/Data/price_indices/month_\"+todays_date+\"_GEKS_agg.csv\"\n",
    ",\"/media/mint/e834712c-23da-4cbe-a4ec-3a35d416877b/Run_system/PricesTool/data/working_data/geks_monthagg.csv\", \n",
    "                 \"Index2\", \"Unnamed: 0\", \"Top\", \"period\",\"weighted_index\",\"Alcoholic Drinks\")\n",
    "\n",
    "#Geks monthly item level\n",
    "\n",
    "gmi = monthlyitem(\"/media/mint/e834712c-23da-4cbe-a4ec-3a35d416877b/Run_system/Data/price_indices/month_\"+todays_date+\"_GEKS_item.csv\",\n",
    "                  \"/media/mint/e834712c-23da-4cbe-a4ec-3a35d416877b/Run_system/PricesTool/data/working_data/geks_monthly_itemaf_.csv\",\n",
    "            \"/media/mint/e834712c-23da-4cbe-a4ec-3a35d416877b/Run_system/PricesTool/data/working_data/geks_monthly_itema.csv\",\"GEKS\", \"Index2\", \"period\", \"ons_item_no\",\"Alcoholic Drinks\")\n",
    "\n",
    "#Geks weekly agg\n",
    "\n",
    "gwa = weekagg(\"/media/mint/e834712c-23da-4cbe-a4ec-3a35d416877b/Run_system/Data/price_indices/week_\"+todays_date+\"_GEKS_agg.csv\",\n",
    "              \"/media/mint/e834712c-23da-4cbe-a4ec-3a35d416877b/Run_system/PricesTool/data/working_data/geks_weekly_agg.csv\", \"Index2\",\n",
    "              \"Unnamed: 0\", \"Top\", \"period\",\"weighted_index\",\"Alcoholic Drinks\")\n",
    "\n",
    "# Geks weekly item level\n",
    "\n",
    "gwi = weekitem(\"/media/mint/e834712c-23da-4cbe-a4ec-3a35d416877b/Run_system/Data/price_indices/week_\"+todays_date+\"_GEKS_item.csv\",\n",
    "               \"/media/mint/e834712c-23da-4cbe-a4ec-3a35d416877b/Run_system/PricesTool/data/working_data/geks_weekly_itemf.csv\", \"/media/mint/e834712c-23da-4cbe-a4ec-3a35d416877b/Run_system/PricesTool/data/working_data/geks_weekly_itema.csv\",\n",
    "               \"GEKS\", \"Index2\", \"period\", \"ons_item_no\", \"Alcoholic Drinks\")"
   ]
  },
  {
   "cell_type": "code",
   "execution_count": 8,
   "metadata": {
    "collapsed": false
   },
   "outputs": [],
   "source": [
    "#Unit monthly agg\n",
    "\n",
    "uma = monthlyagg(\"/media/mint/e834712c-23da-4cbe-a4ec-3a35d416877b/Run_system/Data/price_indices/unitdoublechained_\"+todays_date+\"_.csv\"\n",
    ",\"/media/mint/e834712c-23da-4cbe-a4ec-3a35d416877b/Run_system/PricesTool/data/working_data/unit_monthagg.csv\", \"Index0\"\n",
    "                , \"Unnamed: 0\", \"level_3\", \"period\",\"weighted_index\",\"alcoholic_drinks \")\n",
    "\n",
    "#Unit monthly item level\n",
    "\n",
    "umi = monthlyitem(\"/media/mint/e834712c-23da-4cbe-a4ec-3a35d416877b/Run_system/Data/price_indices/unitdoublechaineditemlevel_\"+todays_date+\"_.csv\",\n",
    "                  \"/media/mint/e834712c-23da-4cbe-a4ec-3a35d416877b/Run_system/PricesTool/data/working_data/unit_monthly_itemaf_.csv\",\n",
    "            \"/media/mint/e834712c-23da-4cbe-a4ec-3a35d416877b/Run_system/PricesTool/data/working_data/unit_monthly_itema.csv\",\"unit\", \"Index0\", \"period\", \"ons_item_number\",\"alcoholic_drinks \")\n",
    "\n",
    "#Unit weekly agg\n",
    "\n",
    "uwa = weekagg(\"/media/mint/e834712c-23da-4cbe-a4ec-3a35d416877b/Run_system/Data/price_indices/unitdoublechainedweek_\"+todays_date+\"_.csv\",\n",
    "              \"/media/mint/e834712c-23da-4cbe-a4ec-3a35d416877b/Run_system/PricesTool/data/working_data/unit_weekly_agg.csv\", \"Index0\"\n",
    "              , \"Unnamed: 0\", \"level_3\", \"period\",\"weighted_index\",\"alcoholic_drinks \")\n",
    "\n",
    "# Unit weekly item level\n",
    "\n",
    "uwi = weekitem(\"/media/mint/e834712c-23da-4cbe-a4ec-3a35d416877b/Run_system/Data/price_indices/unitdoublechaineditemlevelweek_\"+todays_date+\"_.csv\",\n",
    "               \"/media/mint/e834712c-23da-4cbe-a4ec-3a35d416877b/Run_system/PricesTool/data/working_data/unit_weekly_itemf.csv\", \"/media/mint/e834712c-23da-4cbe-a4ec-3a35d416877b/Run_system/PricesTool/data/working_data/unit_weekly_itema.csv\",\n",
    "               \"unit\", \"Index0\",\"period\", \"ons_item_number\",\"alcoholic_drinks \")"
   ]
  },
  {
   "cell_type": "code",
   "execution_count": 9,
   "metadata": {
    "collapsed": false
   },
   "outputs": [],
   "source": [
    "#Daily chained monthly agg\n",
    "\n",
    "dma = monthlyagg(\"/media/mint/e834712c-23da-4cbe-a4ec-3a35d416877b/Run_system/Data/price_indices/DC_monthly_agg_\"+todays_date+\"_.csv\"\n",
    ",\"/media/mint/e834712c-23da-4cbe-a4ec-3a35d416877b/Run_system/PricesTool/data/working_data/dc_monthagg.csv\", \"Index1\"\n",
    "                 , \"Unnamed: 0\", \"level\", \"month\",\"Chainedaverage\",\"alcoholic_drinks \")\n",
    "\n",
    "#Daily chained monthly item level\n",
    "\n",
    "dmi = monthlyitem(\"/media/mint/e834712c-23da-4cbe-a4ec-3a35d416877b/Run_system/Data/price_indices/DC_monthly_itemlevel_\"+todays_date+\"_.csv\",\n",
    "                  \"/media/mint/e834712c-23da-4cbe-a4ec-3a35d416877b/Run_system/PricesTool/data/working_data/dc_monthly_itemaf_.csv\",\n",
    "            \"/media/mint/e834712c-23da-4cbe-a4ec-3a35d416877b/Run_system/PricesTool/data/working_data/dc_monthly_itema.csv\",\"Chainedaverage\", \"Index1\", \"month\",\"level\",\"alcoholic_drinks \")\n",
    "\n",
    "#Daily chained weekly agg\n",
    "\n",
    "dwa = weekagg(\"/media/mint/e834712c-23da-4cbe-a4ec-3a35d416877b/Run_system/Data/price_indices/DC_weekly_agg_\"+todays_date+\"_.csv\",\n",
    "              \"/media/mint/e834712c-23da-4cbe-a4ec-3a35d416877b/Run_system/PricesTool/data/working_data/dc_weekly_agg.csv\", \"Index1\"\n",
    "             , \"Unnamed: 0\", \"level\", \"month\",\"Chainedaverage\",\"alcoholic_drinks \")\n",
    "\n",
    "#Daily chained weekly item level\n",
    "\n",
    "dwi = weekitem(\"/media/mint/e834712c-23da-4cbe-a4ec-3a35d416877b/Run_system/Data/price_indices/DC_weekly_itemlevel_\"+todays_date+\"_.csv\",\n",
    "               \"/media/mint/e834712c-23da-4cbe-a4ec-3a35d416877b/Run_system/PricesTool/data/working_data/dc_weekly_itemf.csv\", \"/media/mint/e834712c-23da-4cbe-a4ec-3a35d416877b/Run_system/PricesTool/data/working_data/dc_weekly_itema.csv\",\n",
    "               \"Chainedaverage\", \"Index1\", \"month\", \"level\",\"alcoholic_drinks \")"
   ]
  },
  {
   "cell_type": "code",
   "execution_count": 10,
   "metadata": {
    "collapsed": true
   },
   "outputs": [],
   "source": [
    "##Monthly bring together"
   ]
  },
  {
   "cell_type": "code",
   "execution_count": 11,
   "metadata": {
    "collapsed": false
   },
   "outputs": [],
   "source": [
    "gm = pd.read_csv(\"/media/mint/e834712c-23da-4cbe-a4ec-3a35d416877b/Run_system/PricesTool/data/working_data/geks_monthagg.csv\")\n",
    "um = pd.read_csv(\"/media/mint/e834712c-23da-4cbe-a4ec-3a35d416877b/Run_system/PricesTool/data/working_data/unit_monthagg.csv\")\n",
    "dm = pd.read_csv(\"/media/mint/e834712c-23da-4cbe-a4ec-3a35d416877b/Run_system/PricesTool/data/working_data/dc_monthagg.csv\")\n",
    "    \n",
    "gmm = pd.concat([gm,um,dm])\n",
    "#gmm = pd.concat([um,dm])\n",
    "\n",
    "del gmm[\"Unnamed: 0\"]\n",
    "gmm.to_csv(\"/media/mint/e834712c-23da-4cbe-a4ec-3a35d416877b/Run_system/working/month.csv\")"
   ]
  },
  {
   "cell_type": "code",
   "execution_count": 12,
   "metadata": {
    "collapsed": false
   },
   "outputs": [],
   "source": [
    "import csv\n",
    "import json\n",
    "outputm = {'Overview': []}\n",
    "with open(\"/media/mint/e834712c-23da-4cbe-a4ec-3a35d416877b/Run_system/working/month.csv\") as csv_file:\n",
    "    for person in csv.DictReader(csv_file):\n",
    "        outputm['Overview'].append({\n",
    "                'category': person['category'],\n",
    "                'index': person['index'],\n",
    "                'value': person['value'],\n",
    "                'date': person['date']\n",
    "        })"
   ]
  },
  {
   "cell_type": "code",
   "execution_count": 13,
   "metadata": {
    "collapsed": true
   },
   "outputs": [],
   "source": [
    "## Monthly item level"
   ]
  },
  {
   "cell_type": "code",
   "execution_count": 14,
   "metadata": {
    "collapsed": false
   },
   "outputs": [],
   "source": [
    "ggmf =pd.read_csv(\"/media/mint/e834712c-23da-4cbe-a4ec-3a35d416877b/Run_system/PricesTool/data/working_data/geks_monthly_itemaf_.csv\")\n",
    "ggma=pd.read_csv(\"/media/mint/e834712c-23da-4cbe-a4ec-3a35d416877b/Run_system/PricesTool/data/working_data/geks_monthly_itema.csv\")\n",
    "                  \n",
    "uumf = pd.read_csv(\"/media/mint/e834712c-23da-4cbe-a4ec-3a35d416877b/Run_system/PricesTool/data/working_data/unit_monthly_itemaf_.csv\")\n",
    "uuma = pd.read_csv(\"/media/mint/e834712c-23da-4cbe-a4ec-3a35d416877b/Run_system/PricesTool/data/working_data/unit_monthly_itema.csv\")\n",
    "\n",
    "dcmf=pd.read_csv(\"/media/mint/e834712c-23da-4cbe-a4ec-3a35d416877b/Run_system/PricesTool/data/working_data/dc_monthly_itemaf_.csv\")\n",
    "dcma=pd.read_csv(\"/media/mint/e834712c-23da-4cbe-a4ec-3a35d416877b/Run_system/PricesTool/data/working_data/dc_monthly_itema.csv\")\n",
    "               \n",
    "allmf = pd.concat([dcmf, uumf,ggmf])\n",
    "#allmf = pd.concat([dcmf, uumf])\n",
    "allmf.to_csv(\"/media/mint/e834712c-23da-4cbe-a4ec-3a35d416877b/Run_system/working/monthfood.csv\")\n",
    "\n",
    "allma = pd.concat([dcma, uuma,ggma])\n",
    "#allma = pd.concat([dcma, uuma])\n",
    "allma.to_csv(\"/media/mint/e834712c-23da-4cbe-a4ec-3a35d416877b/Run_system/working/monthalc.csv\")"
   ]
  },
  {
   "cell_type": "code",
   "execution_count": 15,
   "metadata": {
    "collapsed": true
   },
   "outputs": [],
   "source": [
    "import csv\n",
    "import json\n",
    "outputmf = {'Food': []}\n",
    "with open('/media/mint/e834712c-23da-4cbe-a4ec-3a35d416877b/Run_system/working/monthfood.csv') as csv_file:\n",
    "    for person in csv.DictReader(csv_file):\n",
    "        outputmf['Food'].append({\n",
    "            'category': person['category'],\n",
    "            'index': person['index'],\n",
    "            'value': person['value'],\n",
    "            'date': person['date']\n",
    "        })\n",
    "\n",
    "outputma = {'Alcoholic': []}\n",
    "with open('/media/mint/e834712c-23da-4cbe-a4ec-3a35d416877b/Run_system/working/monthalc.csv') as csv_file:\n",
    "    for person in csv.DictReader(csv_file):\n",
    "        outputma['Alcoholic'].append({\n",
    "            'category': person['category'],\n",
    "            'index': person['index'],\n",
    "            'value': person['value'],\n",
    "            'date': person['date']\n",
    "        })"
   ]
  },
  {
   "cell_type": "code",
   "execution_count": 16,
   "metadata": {
    "collapsed": false
   },
   "outputs": [],
   "source": [
    "##Weekly agg level\n",
    "gww = pd.read_csv(\"/media/mint/e834712c-23da-4cbe-a4ec-3a35d416877b/Run_system/PricesTool/data/working_data/geks_weekly_agg.csv\")\n",
    "uww = pd.read_csv(\"/media/mint/e834712c-23da-4cbe-a4ec-3a35d416877b/Run_system/PricesTool/data/working_data/unit_weekly_agg.csv\")\n",
    "dww = pd.read_csv(\"/media/mint/e834712c-23da-4cbe-a4ec-3a35d416877b/Run_system/PricesTool/data/working_data/dc_weekly_agg.csv\")\n",
    "        \n",
    "allwa = pd.concat([gww, uww,dww])\n",
    "#allwa = pd.concat([uww,dww])\n",
    "\n",
    "allwa.to_csv(\"/media/mint/e834712c-23da-4cbe-a4ec-3a35d416877b/Run_system/working/week.csv\")"
   ]
  },
  {
   "cell_type": "code",
   "execution_count": 17,
   "metadata": {
    "collapsed": true
   },
   "outputs": [],
   "source": [
    "import csv\n",
    "import json\n",
    "outputw = {'Overview': []}\n",
    "with open(\"/media/mint/e834712c-23da-4cbe-a4ec-3a35d416877b/Run_system/working/week.csv\") as csv_file:\n",
    "    for person in csv.DictReader(csv_file):\n",
    "        outputw['Overview'].append({\n",
    "                'category': person['category'],\n",
    "                'index': person['index'],\n",
    "                'value': person['value'],\n",
    "                'date': person['date']\n",
    "        })"
   ]
  },
  {
   "cell_type": "code",
   "execution_count": 18,
   "metadata": {
    "collapsed": true
   },
   "outputs": [],
   "source": [
    "##Weekly item level"
   ]
  },
  {
   "cell_type": "code",
   "execution_count": 19,
   "metadata": {
    "collapsed": false
   },
   "outputs": [],
   "source": [
    "dcif= pd.read_csv(\"/media/mint/e834712c-23da-4cbe-a4ec-3a35d416877b/Run_system/PricesTool/data/working_data/dc_weekly_itemf.csv\")\n",
    "dcia = pd.read_csv(\"/media/mint/e834712c-23da-4cbe-a4ec-3a35d416877b/Run_system/PricesTool/data/working_data/dc_weekly_itema.csv\")\n",
    "\n",
    "uwif = pd.read_csv(\"/media/mint/e834712c-23da-4cbe-a4ec-3a35d416877b/Run_system/PricesTool/data/working_data/unit_weekly_itemf.csv\")\n",
    "uwia = pd.read_csv(\"/media/mint/e834712c-23da-4cbe-a4ec-3a35d416877b/Run_system/PricesTool/data/working_data/unit_weekly_itema.csv\")               \n",
    "\n",
    "gwf = pd.read_csv(\"/media/mint/e834712c-23da-4cbe-a4ec-3a35d416877b/Run_system/PricesTool/data/working_data/geks_weekly_itemf.csv\")\n",
    "gwa = pd.read_csv(\"/media/mint/e834712c-23da-4cbe-a4ec-3a35d416877b/Run_system/PricesTool/data/working_data/geks_weekly_itema.csv\")\n",
    "                  \n",
    "#allf = pd.concat([dcif,uwif])\n",
    "allf = pd.concat([dcif,uwif, gwf])\n",
    "\n",
    "allf.to_csv(\"/media/mint/e834712c-23da-4cbe-a4ec-3a35d416877b/Run_system/working/weekfood.csv\")\n",
    "\n",
    "#alla = pd.concat([dcia,uwia])\n",
    "alla = pd.concat([dcia,uwia, gwa])\n",
    "alla.to_csv(\"/media/mint/e834712c-23da-4cbe-a4ec-3a35d416877b/Run_system/working/weekalc.csv\")"
   ]
  },
  {
   "cell_type": "code",
   "execution_count": 20,
   "metadata": {
    "collapsed": true
   },
   "outputs": [],
   "source": [
    "import csv\n",
    "import json\n",
    "outputwf = {'Food': []}\n",
    "with open('/media/mint/e834712c-23da-4cbe-a4ec-3a35d416877b/Run_system/working/weekfood.csv') as csv_file:\n",
    "    for person in csv.DictReader(csv_file):\n",
    "        outputwf['Food'].append({\n",
    "            'category': person['category'],\n",
    "            'index': person['index'],\n",
    "            'value': person['value'],\n",
    "            'date': person['date']\n",
    "        })\n",
    "\n",
    "outputwa = {'Alcoholic': []}\n",
    "with open('/media/mint/e834712c-23da-4cbe-a4ec-3a35d416877b/Run_system/working/weekalc.csv') as csv_file:\n",
    "    for person in csv.DictReader(csv_file):\n",
    "        outputwa['Alcoholic'].append({\n",
    "            'category': person['category'],\n",
    "            'index': person['index'],\n",
    "            'value': person['value'],\n",
    "            'date': person['date']\n",
    "        })"
   ]
  },
  {
   "cell_type": "code",
   "execution_count": 21,
   "metadata": {
    "collapsed": true
   },
   "outputs": [],
   "source": [
    "##Pull all together and save"
   ]
  },
  {
   "cell_type": "code",
   "execution_count": 39,
   "metadata": {
    "collapsed": true
   },
   "outputs": [],
   "source": [
    "def merge_two_dicts(x, y):\n",
    "    '''Given two dicts, merge them into a new dict as a shallow copy.'''\n",
    "    z = x.copy()\n",
    "    z.update(y)\n",
    "    return z"
   ]
  },
  {
   "cell_type": "code",
   "execution_count": 44,
   "metadata": {
    "collapsed": false
   },
   "outputs": [],
   "source": [
    "pi = {\"Monthly\": {\"0\": outputm,\"1\": merge_two_dicts(outputmf, outputma)},\"Weekly\":{\"0\": outputw,\"1\": merge_two_dicts(outputwf, outputwa)}}"
   ]
  },
  {
   "cell_type": "code",
   "execution_count": 46,
   "metadata": {
    "collapsed": false,
    "scrolled": true
   },
   "outputs": [],
   "source": [
    "import json\n",
    "with open(\"/media/mint/e834712c-23da-4cbe-a4ec-3a35d416877b/Run_system/PricesTool/data/test.json\", 'w') as outfile:\n",
    "    json.dump(pi, outfile)"
   ]
  },
  {
   "cell_type": "code",
   "execution_count": null,
   "metadata": {
    "collapsed": true
   },
   "outputs": [],
   "source": []
  },
  {
   "cell_type": "code",
   "execution_count": null,
   "metadata": {
    "collapsed": true
   },
   "outputs": [],
   "source": []
  },
  {
   "cell_type": "code",
   "execution_count": null,
   "metadata": {
    "collapsed": true
   },
   "outputs": [],
   "source": []
  }
 ],
 "metadata": {
  "kernelspec": {
   "display_name": "Python 2",
   "language": "python",
   "name": "python2"
  },
  "language_info": {
   "codemirror_mode": {
    "name": "ipython",
    "version": 2
   },
   "file_extension": ".py",
   "mimetype": "text/x-python",
   "name": "python",
   "nbconvert_exporter": "python",
   "pygments_lexer": "ipython2",
   "version": "2.7.11"
  }
 },
 "nbformat": 4,
 "nbformat_minor": 0
}
